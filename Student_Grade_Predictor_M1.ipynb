{
  "nbformat": 4,
  "nbformat_minor": 0,
  "metadata": {
    "colab": {
      "provenance": []
    },
    "kernelspec": {
      "name": "python3",
      "display_name": "Python 3"
    },
    "language_info": {
      "name": "python"
    }
  },
  "cells": [
    {
      "cell_type": "code",
      "execution_count": null,
      "metadata": {
        "id": "UAQnBRsIDWMV"
      },
      "outputs": [],
      "source": [
        "# Step 1: Import necessary libraries\n",
        "import pandas as pd\n",
        "from sklearn.linear_model import LinearRegression\n",
        "from sklearn.model_selection import train_test_split\n",
        "\n",
        "# Step 2: Create sample dataset\n",
        "data = {\n",
        "    'Hours_Studied': [1, 2, 3, 4, 5, 6, 7, 8],\n",
        "    'Attendance (%)': [60, 65, 70, 75, 80, 85, 90, 95],\n",
        "    'Grade (%)': [55, 60, 65, 70, 75, 80, 85, 90]\n",
        "}\n",
        "\n",
        "df = pd.DataFrame(data)\n",
        "print(\"Sample Data:\\n\", df)\n",
        "\n",
        "# Step 3: Prepare features (X) and target (y)\n",
        "X = df[['Hours_Studied', 'Attendance (%)']]\n",
        "y = df['Grade (%)']\n",
        "\n",
        "# Step 4: Split data into training and testing sets (80-20 split)\n",
        "X_train, X_test, y_train, y_test = train_test_split(X, y, test_size=0.2, random_state=42)\n",
        "\n",
        "# Step 5: Train the model\n",
        "model = LinearRegression()\n",
        "model.fit(X_train, y_train)\n",
        "\n",
        "# Step 6: Test the model\n",
        "y_pred = model.predict(X_test)\n",
        "print(\"\\nActual Grades:\", y_test.values)\n",
        "print(\"Predicted Grades:\", y_pred)\n",
        "\n",
        "# Step 7: Predict with your own input\n",
        "print(\"\\n--- Predict Grade from Input ---\")\n",
        "study_hours = float(input(\"Enter number of hours studied: \"))\n",
        "attendance = float(input(\"Enter attendance percentage: \"))\n",
        "\n",
        "prediction = model.predict([[study_hours, attendance]])\n",
        "print(f\"\\n📊 Predicted Grade: {prediction[0]:.2f}%\")\n"
      ]
    },
    {
      "cell_type": "code",
      "source": [
        "# Step 1: Import necessary libraries\n",
        "import pandas as pd\n",
        "from sklearn.linear_model import LinearRegression\n",
        "from sklearn.model_selection import train_test_split\n",
        "\n",
        "# Step 2: Create sample dataset\n",
        "data = {\n",
        "    'Hours_Studied': [1, 2, 3, 4, 5, 6, 7, 8],\n",
        "    'Attendance (%)': [60, 65, 70, 75, 80, 85, 90, 95],\n",
        "    'Grade (%)': [55, 60, 65, 70, 75, 80, 85, 90]\n",
        "}\n",
        "\n",
        "df = pd.DataFrame(data)\n",
        "print(\"Sample Data:\\n\", df)\n",
        "\n",
        "# Step 3: Prepare features (X) and target (y)\n",
        "X = df[['Hours_Studied', 'Attendance (%)']]\n",
        "y = df['Grade (%)']\n",
        "\n",
        "# Step 4: Split data into training and testing sets (80-20 split)\n",
        "X_train, X_test, y_train, y_test = train_test_split(X, y, test_size=0.2, random_state=42)\n",
        "\n",
        "# Step 5: Train the model\n",
        "model = LinearRegression()\n",
        "model.fit(X_train, y_train)\n",
        "\n",
        "# Step 6: Test the model\n",
        "y_pred = model.predict(X_test)\n",
        "print(\"\\nActual Grades:\", y_test.values)\n",
        "print(\"Predicted Grades:\", y_pred)\n",
        "\n",
        "# Step 7: Predict with your own input\n",
        "print(\"\\n--- Predict Grade from Input ---\")\n",
        "study_hours = float(input(\"Enter number of hours studied: \"))\n",
        "attendance = float(input(\"Enter attendance percentage: \"))\n",
        "\n",
        "prediction = model.predict([[study_hours, attendance]])\n",
        "print(f\"\\n📊 Predicted Grade: {prediction[0]:.2f}%\")\n"
      ],
      "metadata": {
        "colab": {
          "base_uri": "https://localhost:8080/"
        },
        "id": "A_mZLrqjDv2l",
        "outputId": "94d22af9-48de-4933-daca-8609d63037d9"
      },
      "execution_count": 1,
      "outputs": [
        {
          "output_type": "stream",
          "name": "stdout",
          "text": [
            "Sample Data:\n",
            "    Hours_Studied  Attendance (%)  Grade (%)\n",
            "0              1              60         55\n",
            "1              2              65         60\n",
            "2              3              70         65\n",
            "3              4              75         70\n",
            "4              5              80         75\n",
            "5              6              85         80\n",
            "6              7              90         85\n",
            "7              8              95         90\n",
            "\n",
            "Actual Grades: [60 80]\n",
            "Predicted Grades: [60. 80.]\n",
            "\n",
            "--- Predict Grade from Input ---\n",
            "Enter number of hours studied: 4\n",
            "Enter attendance percentage: 70\n",
            "\n",
            "📊 Predicted Grade: 65.19%\n"
          ]
        },
        {
          "output_type": "stream",
          "name": "stderr",
          "text": [
            "/usr/local/lib/python3.11/dist-packages/sklearn/utils/validation.py:2739: UserWarning: X does not have valid feature names, but LinearRegression was fitted with feature names\n",
            "  warnings.warn(\n"
          ]
        }
      ]
    },
    {
      "cell_type": "code",
      "source": [],
      "metadata": {
        "id": "agmyipBZD0ak"
      },
      "execution_count": null,
      "outputs": []
    }
  ]
}